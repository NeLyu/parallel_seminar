{
 "cells": [
  {
   "cell_type": "code",
   "execution_count": 2,
   "id": "d4dbd09c",
   "metadata": {},
   "outputs": [],
   "source": [
    "import os, re, sys\n",
    "from collections import Counter\n",
    "import pandas as pd"
   ]
  },
  {
   "cell_type": "code",
   "execution_count": 3,
   "id": "29006605",
   "metadata": {},
   "outputs": [],
   "source": [
    "data = pd.read_csv('dataset_LN_everyone.tsv', delimiter='\\t')"
   ]
  },
  {
   "cell_type": "code",
   "execution_count": 5,
   "id": "53711bf0",
   "metadata": {},
   "outputs": [
    {
     "name": "stdout",
     "output_type": "stream",
     "text": [
      "392.0 units in the dataset\n",
      "RU\n",
      "TOP 3 expressions 0.47\n",
      "[('надо', 83), ('нужно', 58), ('приходиться', 43), ('lexical', 19), ('должен', 17), ('conditional', 12), ('imperative', 11), ('нужна', 10), ('необходимо', 9), ('future', 8), ('следует', 7), ('infinitive', 7), ('нужен', 7), ('должно', 6), ('missing', 4), ('должны', 4), ('быть обязанным', 4), ('стоить', 4), ('требуется', 3), ('должна', 3), ('как следует', 3), ('Нужно', 3), ('нужный', 3), ('полагается', 3), ('надлежать', 3), ('чтобы', 3), ('вынужден', 3), ('нуждаться', 3), ('необходимость', 2), ('обязаны', 2), ('нужны', 2), ('следовать', 2), ('полагаться', 2), ('непременно', 2), ('надлежит', 2), ('понадобиться', 2), ('незачем', 2), ('нет надобности', 1), ('нечего', 1), ('при чем', 1), ('не обязательно', 1), ('не стоит', 1), ('надлежало', 1), ('мочь', 1), ('dat + infinitive', 1), ('требоваться', 1), ('вынудить', 1), ('Необходимо', 1), ('не нужен', 1), ('обязанный', 1), ('обязан', 1), ('необходима', 1), ('permissive', 1), ('зачем', 1), ('что ли', 1), ('сметь', 1), ('угодно', 1), ('предстоять', 1), ('может', 1), ('невольно', 1), ('подлежать', 1), ('отчего', 1), ('не может не', 1), ('приходится', 1), ('можете не', 1), ('надобен', 1), ('надобность', 1), ('passive', 1)]\n",
      "\n",
      "EN\n",
      "TOP 3 expressions 0.52\n",
      "[('have to', 99), ('must', 70), ('should', 36), ('need', 33), ('need to', 23), ('ought to', 21), ('lexical', 15), ('necessary', 8), ('want', 7), ('imperative', 4), ('be to', 4), ('future', 4), (\"needn't\", 4), ('no need', 3), (nan, 3), ('duty', 3), ('missing', 3), ('necessary to', 3), ('in need', 3), ('need for', 2), ('properly', 2), ('needs', 2), ('needed', 2), ('obliged', 2), ('owe', 2), ('supposed to', 2), ('would have to', 1), ('one needs', 1), ('ought', 1), ('might', 1), ('on purpose', 1), ('need of', 1), ('to', 1), ('was to be done', 1), ('to take a good look', 1), ('thing to do', 1), ('ought to, must', 1), ('unnecessary', 1), ('proper', 1), ('well', 1), ('necessary ', 1), ('be necessary', 1), ('would have', 1), ('to infinitive', 1), ('owed ', 1), ('shall', 1), ('had to', 1), ('would like', 1), ('could', 1), ('compel', 1), ('involuntarily', 1), ('why', 1), ('forced', 1), ('infinitive', 1), ('cannot not', 1), ('be forced', 1), (\"mustn't\", 1), ('can', 1)]\n",
      "\n",
      "DE\n",
      "TOP 3 expressions 0.55\n",
      "[('müssen', 154), ('lexical', 33), ('brauchen', 29), ('sollen', 25), ('missing', 15), ('wollen', 9), ('sei', 8), ('haben zu', 7), ('infinitive', 7), ('nötig', 6), ('bedürfen', 5), ('conditional', 5), ('braucht', 4), ('notwendig', 3), ('solle', 3), ('brauche', 3), ('sein verpflichtet', 3), ('müßte', 3), ('imperative', 3), ('müsse', 2), ('syntax', 2), ('können', 2), ('dürfen', 2), ('muß', 2), ('bedarf', 2), ('musse', 2), ('brauchte', 2), ('dass', 2), ('es galt', 1), (nan, 1), ('Nötige', 1), ('würde', 1), ('zu können ', 1), ('werde zu', 1), ('zu tun haben', 1), ('bedarf es', 1), ('es bedarf', 1), ('genau', 1), ('wünschenswert', 1), ('hätten können', 1), ('alles Nötige', 1), ('wäre', 1), ('zu', 1), ('soll', 1), ('folgen ', 1), ('solle ', 1), ('darauf', 1), ('verpflichtet sein', 1), ('wollte', 1), ('müssen, haben zu', 1), ('richtig', 1), ('zuständig', 1), ('нет примера', 1), ('gehören', 1), ('sein + Partizip II', 1), ('sein verpflichte', 1), ('willen', 1), ('darf', 1), ('verdanken', 1), ('seien', 1), ('unerläßlich', 1), ('mußten', 1), ('angebracht', 1), ('möge', 1), ('müßten', 1), ('müßen', 1), ('sich geziemen', 1), ('future', 1), ('unwillkürlich', 1), ('deshalb', 1), ('sei zugegeben', 1), ('brauchen nichts', 1), ('erforderlich', 1), ('brauchen ', 1), ('zwecklos', 1), ('nicht frommen', 1), ('notwendig sein', 1)]\n",
      "\n",
      "IT\n",
      "TOP 3 expressions 0.53\n",
      "[('dovere', 111), ('bisognare', 61), ('lexical', 37), ('missing', 30), ('bisogno', 13), ('imperative', 12), ('occorrere', 12), ('conditional', 9), ('essere necessario', 8), ('future', 8), ('necessario', 8), ('avere bisogno', 5), ('potere', 5), ('volere', 5), ('costretto', 4), ('toccare', 4), ('andare', 3), (\"avere l'obbligo\", 3), ('servire', 3), ('bastare', 3), ('convenire', 2), ('indispensabile', 2), ('di', 2), ('infinitive', 2), (\"c'è bisogno\", 2), ('inutile', 2), ('necessaria', 2), ('ben bene', 2), ('obbligo', 2), ('essere il caso', 1), ('non è proprio', 1), ('necessità', 1), ('grammar', 1), ('giocoforza', 1), ('avere il compito', 1), ('avere', 1), ('ci sarà', 1), ('gli capitò piú', 1), (\"com'è da presumere\", 1), ('credo', 1), ('essere da', 1), ('bisonare', 1), ('non è il caso', 1), ('ci vuole', 1), ('dovere, il dovere', 1), ('competenti', 1), ('a dovere', 1), ('a posto', 1), ('andare + participio passato', 1), ('obbligare', 1), ('fede', 1), ('permissive', 1), ('diritto', 1), ('conviene', 1), ('que', 1), ('meccanicamente', 1), ('per questo', 1), ('non verb non', 1), ('laisciare', 1)]\n",
      "\n",
      "ES\n",
      "TOP 3 expressions 0.52\n",
      "[('tener que', 120), ('missing', 47), ('lexical', 37), ('haber que', 33), ('necesitar', 15), ('imperative', 12), ('deber', 12), ('necesario', 9), ('haber', 8), ('poder', 8), ('future', 7), ('conditional', 7), ('tener', 6), ('necesita', 6), ('querer', 4), ('necesidad', 4), ('necesito', 3), ('ser preciso', 3), ('ser necesario', 3), ('infinitive', 3), ('bastar', 3), ('de', 2), ('ir', 2), ('-', 2), ('hay que', 2), ('deber de alguien', 2), ('que', 2), ('querer que', 2), ('querer + inf', 1), ('hacer', 1), ('obligado', 1), ('despertar iría', 1), ('dejar', 1), ('querrá este', 1), ('es cuestión', 1), ('no quiero ', 1), ('syntax', 1), ('necesariamente', 1), ('interesar', 1), ('hacía falta', 1), ('bien', 1), ('no hace falta', 1), ('quiero', 1), (\"haber l'obbligo\", 1), ('tener  ', 1), ('servir ', 1), ('deber, tener', 1), ('ser (in)necesaria', 1), ('permissive', 1), ('comportar', 1), ('atreverse', 1), ('corresponde', 1), ('solar', 1), ('oblogado', 1), ('pueder', 1), ('deja de', 1)]\n",
      "\n",
      "FR\n",
      "TOP 3 expressions 0.44\n",
      "[('il faut', 105), ('devoir', 38), ('lexical', 31), ('missing', 29), ('besoin', 16), ('imperative', 12), ('future', 9), ('avoir à', 8), ('faut', 8), ('conditional', 8), ('inutile', 5), ('pouvoir', 5), ('vouloir', 5), ('infinitive', 4), ('de', 3), ('il avait', 3), ('il convient', 3), ('être (in)utile', 3), ('aller', 2), ('nécessairement', 2), ('avoir', 2), ('indispensable', 2), ('obligé', 2), ('syntax', 2), ('convenablement', 2), ('falloir', 2), ('comme il convient', 2), ('avoir besoin', 2), ('doit', 2), ('ai besoin', 2), ('étre obligé', 2), ('il suffit', 2), ('raison', 2), ('être à', 1), ('il n’eut pas', 1), ('force était d’aller', 1), ('il a besoin', 1), (nan, 1), ('obligea', 1), ('l’obligation', 1), ('qu’il n’avait pas', 1), ('qu’il allait', 1), ('on dut', 1), ('lasser', 1), ('celui-ci dut', 1), ('доведеться', 1), ('grammar', 1), ('que ça le regarde', 1), ('n’est pas question', 1), ('je me moque', 1), ('faire', 1), ('mieux', 1), ('j’ai à', 1), ('être que', 1), ('est probable', 1), ('probablement', 1), ('impersonal', 1), ('voulais', 1), ('est nécessaire', 1), ('faudrait', 1), (\"c'est votre devoir\", 1), ('notre devoir', 1), ('désirer', 1), ('ne pouvait être que', 1), ('être nécessaire', 1), ('de droit', 1), ('fallait', 1), ('achever', 1), ('être indispensable', 1), ('ne + pouvoir + pas', 1), ('un bon petit coup', 1), ('necessario', 1), ('être tenir', 1), ('être tenu de', 1), ('a besoin', 1), ('il falloir', 1), ('dois', 1), ('avait besoin', 1), ('juger bon', 1), ('pourqoui', 1), ('droit', 1), ('ne rester que', 1), ('convient', 1), ('normalement', 1), ('est à', 1), ('devez', 1), ('incombe à', 1), ('nécessaire', 1), ('suffit', 1), ('utile', 1), ('que', 1), ('interdiction sous peine des plus grâve châtiments', 1), ('pourquoi', 1), ('étre contraint', 1), ('inutile de', 1), ('nécessaires', 1), ('voir', 1), ('désire', 1), ('nécessité', 1), ('laisser', 1)]\n",
      "\n",
      "UK\n",
      "TOP 3 expressions 0.47\n",
      "[('треба', 100), ('слід', 48), ('доведеться', 38), ('lexical', 21), ('imperative', 11), ('потрібний', 10), ('conditional', 9), ('infinitive', 8), ('future', 7), ('потрібно', 7), ('має', 7), ('потрібна', 7), ('missing', 5), ('мав', 5), ('як слід', 4), ('потрібне', 4), ('потрібен', 4), ('доводиться', 4), ('мати', 3), ('повинні', 3), ('маю', 3), ('неодмінно', 3), ('досить', 3), ('слiдувати', 3), ('потреба', 2), ('варто', 2), ('належало', 2), ('гаразд', 2), ('повинен', 2), ('мушу', 2), ('мусить', 2), ('мали', 2), ('належить', 2), ('годиться ', 2), ('щоб', 2), ('мати потреби', 1), ('не треба', 1), ('syntax', 1), ('траплялося', 1), (nan, 1), ('до чого', 1), ('не конче', 1), ('мусити', 1), ('приводиться', 1), ('мочь', 1), ('dat + infinitive', 1), ('бути', 1), ('належиться', 1), ('маєте', 1), ('мусиш', 1), ('непотрібне', 1), ('мусів', 1), ('мають', 1), ('Треба', 1), ('мала', 1), ('необхідно', 1), ('потрібні', 1), ('винні', 1), ('мало', 1), ('завдячувати', 1), ('вистачити', 1), ('варто було', 1), ('?', 1), ('навіщо', 1), ('належати', 1), ('належити', 1), ('що ж', 1), ('сміти', 1), ('не до діла', 1), ('надлежить', 1), ('мають охоту', 1), ('мусив', 1), ('мимоволі', 1), ('наказати', 1), ('підлягати', 1), ('через що', 1), ('відмовитися', 1), ('не може не', 1), ('могти', 1), ('потребує', 1), ('знадобиться', 1), ('потреби', 1), ('могла', 1), ('нема', 1), ('passive', 1), ('годi', 1), ('потребувати', 1), ('знадоба', 1)]\n",
      "\n"
     ]
    }
   ],
   "source": [
    "langs = ['ru', 'en', 'de', 'it', 'es', 'fr', 'uk']\n",
    "\n",
    "total = len(data)/7\n",
    "print(total, 'units in the dataset')\n",
    "\n",
    "for lang in langs:\n",
    "    print(lang.upper())\n",
    "    tags = data['CONSTR'][data.query('LANG == \"' + lang.upper() +'\"').index]\n",
    "    counts = Counter(tags).most_common()\n",
    "    top_3 = [count[1] for count in counts[:3]]\n",
    "    print('TOP 3 expressions', round(sum(top_3)/total, 2))\n",
    "    print(counts)\n",
    "    print()"
   ]
  },
  {
   "cell_type": "code",
   "execution_count": null,
   "id": "4879ae04",
   "metadata": {},
   "outputs": [],
   "source": []
  }
 ],
 "metadata": {
  "kernelspec": {
   "display_name": "Python 3 (ipykernel)",
   "language": "python",
   "name": "python3"
  },
  "language_info": {
   "codemirror_mode": {
    "name": "ipython",
    "version": 3
   },
   "file_extension": ".py",
   "mimetype": "text/x-python",
   "name": "python",
   "nbconvert_exporter": "python",
   "pygments_lexer": "ipython3",
   "version": "3.9.7"
  }
 },
 "nbformat": 4,
 "nbformat_minor": 5
}
