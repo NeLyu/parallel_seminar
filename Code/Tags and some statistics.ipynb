{
 "cells": [
  {
   "cell_type": "code",
   "execution_count": 33,
   "id": "d4dbd09c",
   "metadata": {},
   "outputs": [],
   "source": [
    "import os, re, sys\n",
    "from collections import Counter"
   ]
  },
  {
   "cell_type": "code",
   "execution_count": 34,
   "id": "3c88aed9",
   "metadata": {},
   "outputs": [],
   "source": [
    "with open(\"dataset_tagged_LN.tsv\") as f:\n",
    "    lines = f.read().strip().split('\\n')"
   ]
  },
  {
   "cell_type": "code",
   "execution_count": 46,
   "id": "53711bf0",
   "metadata": {},
   "outputs": [
    {
     "name": "stdout",
     "output_type": "stream",
     "text": [
      "195 units in the dataset\n",
      "RU\n",
      "TOP 3 expressions 0.89\n",
      "[('надо', 77), ('нужно', 56), ('приходиться', 40), ('должен', 3), ('future', 2), ('imperative', 1), ('нет надобности', 1), ('следует', 1), ('нечего', 1), ('необходимо', 1), ('необходимость', 1), ('lexical', 1), ('при чем', 1), ('missing', 1), ('не обязательно', 1), ('не стоит', 1), ('надлежало', 1), ('infinitive', 1), ('мочь', 1), ('dat + infinitive', 1), ('требоваться', 1), ('вынудить', 1)]\n",
      "\n",
      "EN\n",
      "TOP 3 expressions 0.77\n",
      "[('have to', 97), ('must', 31), ('need to', 22), ('need', 10), ('should', 5), ('want', 5), ('ought to', 4), ('lexical', 4), ('no need', 3), ('', 2), ('necessary', 2), ('would have to', 1), ('one needs', 1), ('ought', 1), ('might', 1), ('on purpose', 1), ('need of', 1), ('need for', 1), ('to', 1), ('properly', 1), ('imperative', 1)]\n",
      "\n",
      "DE\n",
      "TOP 3 expressions 0.71\n",
      "[('müssen', 111), ('brauchen', 18), ('lexical', 9), ('wollen', 7), ('sei', 6), ('sollen', 6), ('haben zu', 6), ('nötig', 5), ('missing', 4), ('müsse', 2), ('syntax', 2), ('können', 2), ('es galt', 1), ('', 1), ('Nötige', 1), ('würde', 1), ('zu können ', 1), ('werde zu', 1), ('zu tun haben', 1), ('bedarf es', 1), ('es bedarf', 1), ('genau', 1), ('wünschenswert', 1), ('dürfen', 1), ('hätten können', 1), ('alles Nötige', 1), ('wäre', 1), ('notwendig', 1), ('bedürfen', 1)]\n",
      "\n",
      "IT\n",
      "TOP 3 expressions 0.63\n",
      "[('dovere', 64), ('bisognare', 46), ('missing', 13), ('occorrere', 8), ('lexical', 7), ('bisogno', 7), ('necessario', 5), ('toccare', 4), ('volere', 4), ('avere bisogno', 3), ('essere necessario', 3), ('andare', 2), ('imperative', 2), ('costretto', 2), ('future', 2), ('potere', 2), ('essere il caso', 1), ('convenire', 1), ('non è proprio', 1), ('indispensabile', 1), ('necessità', 1), ('di', 1), ('grammar', 1), ('giocoforza', 1), ('avere il compito', 1), ('infinitive', 1), ('avere', 1), ('ci sarà', 1), ('gli capitò piú', 1), (\"c'è bisogno\", 1), (\"com'è da presumere\", 1), ('credo', 1), ('essere da', 1), ('bisonare', 1), ('inutile', 1), ('non è il caso', 1), ('necessaria', 1)]\n",
      "\n",
      "ES\n",
      "TOP 3 expressions 0.62\n",
      "[('tener que', 72), ('haber que', 29), ('missing', 20), ('lexical', 14), ('necesario', 8), ('haber', 8), ('imperative', 5), ('tener', 5), ('necesita', 3), ('necesito', 3), ('poder', 3), ('querer', 3), ('de', 2), ('future', 2), ('necesitar', 2), ('querer + inf', 1), ('hacer', 1), ('obligado', 1), ('despertar iría', 1), ('ir', 1), ('dejar', 1), ('querrá este', 1), ('es cuestión', 1), ('no quiero ', 1), ('syntax', 1), ('necesariamente', 1), ('interesar', 1), ('hacía falta', 1), ('bien', 1), ('no hace falta', 1), ('quiero', 1)]\n",
      "\n",
      "FR\n",
      "TOP 3 expressions 0.56\n",
      "[('il faut', 86), ('missing', 12), ('besoin', 12), ('devoir', 11), ('lexical', 8), ('avoir à', 6), ('pouvoir', 5), ('inutile', 4), ('imperative', 3), ('de', 3), ('il avait', 3), ('vouloir', 3), ('aller', 2), ('future', 2), ('avoir', 2), ('obligé', 2), ('syntax', 2), ('être à', 1), ('il n’eut pas', 1), ('force était d’aller', 1), ('il a besoin', 1), ('', 1), ('obligea', 1), ('l’obligation', 1), ('qu’il n’avait pas', 1), ('qu’il allait', 1), ('on dut', 1), ('lasser', 1), ('celui-ci dut', 1), ('nécessairement', 1), ('доведеться', 1), ('indispensable', 1), ('infinitive', 1), ('grammar', 1), ('que ça le regarde', 1), ('n’est pas question', 1), ('je me moque', 1), ('faire', 1), ('mieux', 1), ('j’ai à', 1), ('être que', 1), ('est probable', 1), ('probablement', 1), ('impersonal', 1), ('convenablement', 1), ('voulais', 1)]\n",
      "\n",
      "UK\n",
      "TOP 3 expressions 0.84\n",
      "[('треба', 91), ('доведеться', 38), ('слід', 35), ('потрібно', 4), ('мати', 3), ('future', 2), ('належало', 2), ('imperative', 1), ('мати потреби', 1), ('не треба', 1), ('syntax', 1), ('потреба', 1), ('lexical', 1), ('траплялося', 1), ('', 1), ('до чого', 1), ('missing', 1), ('не конче', 1), ('мусити', 1), ('варто', 1), ('infinitive', 1), ('приводиться', 1), ('мочь', 1), ('dat + infinitive', 1), ('бути', 1), ('належиться', 1), ('гаразд', 1)]\n",
      "\n"
     ]
    }
   ],
   "source": [
    "langs = ['ru', 'en', 'de', 'it', 'es', 'fr', 'uk']\n",
    "\n",
    "tags = {lang: [] for lang in langs}\n",
    "\n",
    "for line in lines:\n",
    "#     print(line)\n",
    "    if line != '' and line[0].isdigit():\n",
    "        chunks = line.split('\\t')\n",
    "#         print(chunks)\n",
    "        lang = chunks[1].lower()\n",
    "        tags[lang].append(chunks[3])\n",
    "        \n",
    "total = len(tags[lang])\n",
    "print(total, 'units in the dataset')\n",
    "\n",
    "for lang in langs:\n",
    "    print(lang.upper())\n",
    "    counts = Counter(tags[lang]).most_common()\n",
    "    top_3 = [count[1] for count in counts[:3]]\n",
    "    print('TOP 3 expressions', round(sum(top_3)/total, 2))\n",
    "    print(counts)\n",
    "    print()"
   ]
  },
  {
   "cell_type": "code",
   "execution_count": null,
   "id": "4879ae04",
   "metadata": {},
   "outputs": [],
   "source": []
  }
 ],
 "metadata": {
  "kernelspec": {
   "display_name": "Python 3 (ipykernel)",
   "language": "python",
   "name": "python3"
  },
  "language_info": {
   "codemirror_mode": {
    "name": "ipython",
    "version": 3
   },
   "file_extension": ".py",
   "mimetype": "text/x-python",
   "name": "python",
   "nbconvert_exporter": "python",
   "pygments_lexer": "ipython3",
   "version": "3.9.7"
  }
 },
 "nbformat": 4,
 "nbformat_minor": 5
}
