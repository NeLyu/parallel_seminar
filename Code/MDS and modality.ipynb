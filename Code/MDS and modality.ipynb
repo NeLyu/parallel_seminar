{
 "cells": [
  {
   "cell_type": "code",
   "execution_count": 61,
   "id": "2908ea58",
   "metadata": {},
   "outputs": [],
   "source": [
    "import os, sys\n",
    "import numpy as np\n",
    "import matplotlib\n",
    "matplotlib.use('Agg')\n",
    "from matplotlib import pyplot as plt\n",
    "from matplotlib.collections import LineCollection\n",
    "from collections import Counter\n",
    "\n",
    "from sklearn.manifold import MDS\n",
    "from sklearn.metrics import euclidean_distances\n",
    "from time import time\n",
    "\n",
    "import numpy as np\n",
    "from scipy import ndimage\n",
    "from matplotlib import pyplot as plt\n",
    "import matplotlib.patches as mpatches\n",
    "\n",
    "from sklearn import manifold, datasets"
   ]
  },
  {
   "cell_type": "code",
   "execution_count": 85,
   "id": "026d135e",
   "metadata": {},
   "outputs": [],
   "source": [
    "def read_the_data(fname):\n",
    "    with open(fname) as f:\n",
    "        raw = f.read().strip()\n",
    "        \n",
    "    units = raw.split('\\n\\n')\n",
    "    print(len(units), 'units in the data set')\n",
    "    \n",
    "    tags_table = []\n",
    "    for unit in units:\n",
    "        t_line = []\n",
    "\n",
    "        for line in unit.split('\\n'):\n",
    "            tag = line.split('\\t')[3]\n",
    "            t_line.append(tag)\n",
    "            \n",
    "        if len(t_line) != 7:\n",
    "            print(len(t_line))\n",
    "        tags_table.append(t_line)\n",
    "\n",
    "    return tags_table"
   ]
  },
  {
   "cell_type": "code",
   "execution_count": 86,
   "id": "87f43845",
   "metadata": {},
   "outputs": [],
   "source": [
    "def dissimilarity_matrix(data):    \n",
    "    #подсчет матрицы\n",
    "    matrix = []\n",
    "    for i in range(len(data)):\n",
    "        sim_row = []\n",
    "        for j in range(len(data)):\n",
    "            sim_loc = 0\n",
    "            for k in range(len(data[i])):\n",
    "                if data[i][k] == data[j][k] and data[i][k] != 'missing':\n",
    "                    sim_loc += 1\n",
    "            sim_row.append(1 - sim_loc/9) #len(data[0]))\n",
    "        matrix.append(sim_row)\n",
    "    return matrix"
   ]
  },
  {
   "cell_type": "code",
   "execution_count": 87,
   "id": "e687a846",
   "metadata": {},
   "outputs": [],
   "source": [
    "def mds_stuff(matrix, ndim):\n",
    "    matrix = np.array(matrix)\n",
    "    mds = MDS(n_components=ndim, random_state=42, dissimilarity='precomputed')\n",
    "    \n",
    "    pos = mds.fit_transform(matrix)\n",
    "\n",
    "    print(mds.stress_)\n",
    "    DE = euclidean_distances(pos)\n",
    "    stress = 0.5 * np.sum((DE - matrix)**2)\n",
    "\n",
    "    ## Kruskal's stress (or stress formula 1)\n",
    "    stress1 = np.sqrt(stress / (0.5 * np.sum(matrix**2)))\n",
    "    print(\"Kruskal's Stress :\")\n",
    "    print(\"[Poor > 0.2 > Fair > 0.1 > Good > 0.05 > Excellent > 0.025 > Perfect > 0.0]\")\n",
    "    print(stress1)\n",
    "    return pos   "
   ]
  },
  {
   "cell_type": "code",
   "execution_count": 94,
   "id": "1197b1f6",
   "metadata": {},
   "outputs": [],
   "source": [
    "#Рисуем карту\n",
    "\n",
    "def make_plot(lang_ind, langs, dim_x, dim_y):\n",
    "    fig = plt.subplots(dpi=700, figsize=(9,8))\n",
    "    for i in range(len(tags)):\n",
    "        plt.scatter(pos[i, dim_x], pos[i, dim_y], c='magenta')\n",
    "        plt.text(pos[i, dim_x], pos[i, dim_y], tags[i][lang_ind], fontsize=6)\n",
    "\n",
    "\n",
    "    plt.xlabel ('DIMENSION '+str(1))\n",
    "    plt.ylabel ('DIMENSION '+str(2))\n",
    "    plt.savefig('pictures/' + ' ' + langs[lang_ind] + '.png')\n",
    "\n",
    "# if tags[i][0] == 'надо':\n",
    "#     plt.scatter(pos[i, dim_x], pos[i, dim_y], c='magenta')\n",
    "# elif tags[i][0] == 'нужно':\n",
    "#     plt.scatter(pos[i, dim_x], pos[i, dim_y], c='orange')\n",
    "# elif tags[i][0] == 'приходиться':\n",
    "#     plt.scatter(pos[i, dim_x], pos[i, dim_y], c='blue')\n",
    "# else:\n",
    "#     plt.scatter(pos[i, dim_x], pos[i, dim_y], c='grey')\n",
    "\n",
    "# if tags[i][lang_ind] == 'have to':\n",
    "#     plt.scatter(pos[i, dim_x], pos[i, dim_y], c='magenta')\n",
    "# elif tags[i][lang_ind] == 'need to':\n",
    "#     plt.scatter(pos[i, dim_x], pos[i, dim_y], c='orange')\n",
    "# elif tags[i][lang_ind] == 'must':\n",
    "#     plt.scatter(pos[i, dim_x], pos[i, dim_y], c='blue')\n",
    "# else:\n",
    "#     plt.scatter(pos[i, dim_x], pos[i, dim_y], c='grey')"
   ]
  },
  {
   "cell_type": "code",
   "execution_count": 89,
   "id": "6e6c1f62",
   "metadata": {},
   "outputs": [
    {
     "name": "stdout",
     "output_type": "stream",
     "text": [
      "195 units in the data set\n"
     ]
    }
   ],
   "source": [
    "tags = read_the_data('dataset_tagged_LN.tsv')"
   ]
  },
  {
   "cell_type": "code",
   "execution_count": 96,
   "id": "38f28718",
   "metadata": {},
   "outputs": [
    {
     "data": {
      "text/plain": [
       "[['приходиться',\n",
       "  'have to',\n",
       "  'müssen',\n",
       "  'andare',\n",
       "  'tener que',\n",
       "  'être à',\n",
       "  'доведеться'],\n",
       " ['imperative',\n",
       "  'have to',\n",
       "  'müssen',\n",
       "  'imperative',\n",
       "  'imperative',\n",
       "  'imperative',\n",
       "  'imperative'],\n",
       " ['нет надобности',\n",
       "  'need to',\n",
       "  'sei',\n",
       "  'essere il caso',\n",
       "  'necesario',\n",
       "  'missing',\n",
       "  'мати потреби'],\n",
       " ['приходиться',\n",
       "  'have to',\n",
       "  'sollen',\n",
       "  'dovere',\n",
       "  'tener que',\n",
       "  'il faut',\n",
       "  'доведеться'],\n",
       " ['приходиться',\n",
       "  'have to',\n",
       "  'müssen',\n",
       "  'bisognare',\n",
       "  'missing',\n",
       "  'il faut',\n",
       "  'доведеться']]"
      ]
     },
     "execution_count": 96,
     "metadata": {},
     "output_type": "execute_result"
    }
   ],
   "source": [
    "tags[:5]"
   ]
  },
  {
   "cell_type": "code",
   "execution_count": 90,
   "id": "e2acaf4b",
   "metadata": {},
   "outputs": [],
   "source": [
    "matrix = dissimilarity_matrix(tags)"
   ]
  },
  {
   "cell_type": "code",
   "execution_count": 91,
   "id": "6631e494",
   "metadata": {},
   "outputs": [
    {
     "name": "stdout",
     "output_type": "stream",
     "text": [
      "40.07628578854518\n",
      "Kruskal's Stress :\n",
      "[Poor > 0.2 > Fair > 0.1 > Good > 0.05 > Excellent > 0.025 > Perfect > 0.0]\n",
      "0.055740385456280676\n",
      "\n"
     ]
    }
   ],
   "source": [
    "n_dim = 15\n",
    "pos = mds_stuff(matrix, n_dim)"
   ]
  },
  {
   "cell_type": "code",
   "execution_count": 95,
   "id": "a2e08108",
   "metadata": {},
   "outputs": [],
   "source": [
    "langs = ['ru', 'en', 'de', 'it', 'es', 'fr', 'uk']\n",
    "dim_x = 0\n",
    "dim_y = 1\n",
    "\n",
    "for i in range(len(langs)):\n",
    "    make_plot(i, langs, dim_x, dim_y)"
   ]
  },
  {
   "cell_type": "code",
   "execution_count": null,
   "id": "9e11f857",
   "metadata": {},
   "outputs": [],
   "source": []
  }
 ],
 "metadata": {
  "kernelspec": {
   "display_name": "Python 3 (ipykernel)",
   "language": "python",
   "name": "python3"
  },
  "language_info": {
   "codemirror_mode": {
    "name": "ipython",
    "version": 3
   },
   "file_extension": ".py",
   "mimetype": "text/x-python",
   "name": "python",
   "nbconvert_exporter": "python",
   "pygments_lexer": "ipython3",
   "version": "3.9.7"
  }
 },
 "nbformat": 4,
 "nbformat_minor": 5
}
