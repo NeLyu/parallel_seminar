{
 "cells": [
  {
   "cell_type": "code",
   "execution_count": 2,
   "id": "2908ea58",
   "metadata": {},
   "outputs": [],
   "source": [
    "import os, sys\n",
    "import numpy as np\n",
    "import matplotlib\n",
    "matplotlib.use('Agg')\n",
    "from matplotlib import pyplot as plt\n",
    "# from matplotlib.collections import LineCollection\n",
    "\n",
    "from sklearn.manifold import MDS\n",
    "from sklearn.metrics import euclidean_distances\n",
    "\n",
    "import numpy as np\n",
    "# from scipy import ndimage\n",
    "# from matplotlib import pyplot as plt\n",
    "# import matplotlib.patches as mpatches\n",
    "\n",
    "from sklearn import manifold, datasets\n",
    "import pandas as pd\n",
    "from tqdm import tqdm"
   ]
  },
  {
   "cell_type": "code",
   "execution_count": 4,
   "id": "499d0251",
   "metadata": {},
   "outputs": [],
   "source": [
    "def dissimilarity_matrix_2():\n",
    "    data = pd.read_csv('dataset_LN_everyone.tsv', delimiter='\\t')\n",
    "    ids = data['ID'].unique()\n",
    "    \n",
    "    tags = []\n",
    "    \n",
    "    matrix = []\n",
    "    \n",
    "    len_unit = len(data['CONSTR'][data.query('ID == \"4\"').index])\n",
    "                   \n",
    "    for i in tqdm(ids):\n",
    "        sim_row = []\n",
    "        tags.append(list(data['CONSTR'][data.query('ID == \"' + str(i) +'\"').index]))\n",
    "        for j in ids:\n",
    "            sim_loc = 0\n",
    "            for k in range(7):\n",
    "                constrs_i = list(data['CONSTR'][data.query('ID == \"' + str(i) +'\"').index])[k]\n",
    "                constrs_j = list(data['CONSTR'][data.query('ID == \"' + str(j) +'\"').index])[k]\n",
    "                if constrs_i == constrs_j and constrs_i != 'missing':\n",
    "                    sim_loc += 1\n",
    "            sim_row.append(1 - sim_loc/9) #len(data[0]))\n",
    "        matrix.append(sim_row)\n",
    "    return matrix, tags"
   ]
  },
  {
   "cell_type": "code",
   "execution_count": 5,
   "id": "e687a846",
   "metadata": {},
   "outputs": [],
   "source": [
    "def mds_stuff(matrix, ndim):\n",
    "    matrix = np.array(matrix)\n",
    "    mds = MDS(n_components=ndim, random_state=42, dissimilarity='precomputed')\n",
    "    \n",
    "    pos = mds.fit_transform(matrix)\n",
    "\n",
    "    print(mds.stress_)\n",
    "    DE = euclidean_distances(pos)\n",
    "    stress = 0.5 * np.sum((DE - matrix)**2)\n",
    "\n",
    "    ## Kruskal's stress (or stress formula 1)\n",
    "    stress1 = np.sqrt(stress / (0.5 * np.sum(matrix**2)))\n",
    "    print(\"Kruskal's Stress :\")\n",
    "    print(\"[Poor > 0.2 > Fair > 0.1 > Good > 0.05 > Excellent > 0.025 > Perfect > 0.0]\")\n",
    "    print(stress1)\n",
    "    return pos   "
   ]
  },
  {
   "cell_type": "code",
   "execution_count": 6,
   "id": "1197b1f6",
   "metadata": {},
   "outputs": [],
   "source": [
    "#Рисуем карту\n",
    "\n",
    "def make_plot(lang_ind, langs, dim_x, dim_y):\n",
    "    fig = plt.subplots(dpi=700, figsize=(9,8))\n",
    "    for i in range(len(tags)):\n",
    "        plt.scatter(pos[i, dim_x], pos[i, dim_y], c='magenta')\n",
    "        plt.text(pos[i, dim_x], pos[i, dim_y], tags[i][lang_ind], fontsize=6)\n",
    "\n",
    "\n",
    "    plt.xlabel ('DIMENSION '+str(1))\n",
    "    plt.ylabel ('DIMENSION '+str(2))\n",
    "    plt.savefig('pictures/' + ' ' + langs[lang_ind] + '23.png')\n",
    "\n",
    "# if tags[i][0] == 'надо':\n",
    "#     plt.scatter(pos[i, dim_x], pos[i, dim_y], c='magenta')\n",
    "# elif tags[i][0] == 'нужно':\n",
    "#     plt.scatter(pos[i, dim_x], pos[i, dim_y], c='orange')\n",
    "# elif tags[i][0] == 'приходиться':\n",
    "#     plt.scatter(pos[i, dim_x], pos[i, dim_y], c='blue')\n",
    "# else:\n",
    "#     plt.scatter(pos[i, dim_x], pos[i, dim_y], c='grey')\n",
    "\n",
    "# if tags[i][lang_ind] == 'have to':\n",
    "#     plt.scatter(pos[i, dim_x], pos[i, dim_y], c='magenta')\n",
    "# elif tags[i][lang_ind] == 'need to':\n",
    "#     plt.scatter(pos[i, dim_x], pos[i, dim_y], c='orange')\n",
    "# elif tags[i][lang_ind] == 'must':\n",
    "#     plt.scatter(pos[i, dim_x], pos[i, dim_y], c='blue')\n",
    "# else:\n",
    "#     plt.scatter(pos[i, dim_x], pos[i, dim_y], c='grey')"
   ]
  },
  {
   "cell_type": "code",
   "execution_count": null,
   "id": "e2acaf4b",
   "metadata": {
    "scrolled": true
   },
   "outputs": [],
   "source": [
    "matrix, tags = dissimilarity_matrix_2()"
   ]
  },
  {
   "cell_type": "code",
   "execution_count": null,
   "id": "6631e494",
   "metadata": {},
   "outputs": [],
   "source": [
    "n_dim = 15\n",
    "pos = mds_stuff(matrix, n_dim)"
   ]
  },
  {
   "cell_type": "code",
   "execution_count": null,
   "id": "a2e08108",
   "metadata": {},
   "outputs": [],
   "source": [
    "langs = ['ru', 'en', 'de', 'it', 'es', 'fr', 'uk']\n",
    "dim_x = 2\n",
    "dim_y = 3\n",
    "\n",
    "for i in range(len(langs)):\n",
    "    make_plot(i, langs, dim_x, dim_y)"
   ]
  },
  {
   "cell_type": "code",
   "execution_count": null,
   "id": "9e11f857",
   "metadata": {},
   "outputs": [],
   "source": []
  }
 ],
 "metadata": {
  "kernelspec": {
   "display_name": "Python 3 (ipykernel)",
   "language": "python",
   "name": "python3"
  },
  "language_info": {
   "codemirror_mode": {
    "name": "ipython",
    "version": 3
   },
   "file_extension": ".py",
   "mimetype": "text/x-python",
   "name": "python",
   "nbconvert_exporter": "python",
   "pygments_lexer": "ipython3",
   "version": "3.9.7"
  }
 },
 "nbformat": 4,
 "nbformat_minor": 5
}
