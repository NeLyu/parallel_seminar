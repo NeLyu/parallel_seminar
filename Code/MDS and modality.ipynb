{
 "cells": [
  {
   "cell_type": "code",
   "execution_count": 1,
   "id": "6fcbb569",
   "metadata": {},
   "outputs": [],
   "source": [
    "import os, sys\n",
    "import numpy as np\n",
    "import matplotlib\n",
    "matplotlib.use('Agg')\n",
    "from matplotlib import pyplot as plt\n",
    "from matplotlib.collections import LineCollection\n",
    "\n",
    "from sklearn.manifold import MDS\n",
    "from sklearn.metrics import euclidean_distances\n",
    "\n",
    "import numpy as np\n",
    "from scipy import ndimage\n",
    "from matplotlib import pyplot as plt\n",
    "import matplotlib.patches as mpatches\n",
    "\n",
    "from sklearn import manifold, datasets\n",
    "import pandas as pd\n",
    "from tqdm import tqdm"
   ]
  },
  {
   "cell_type": "code",
   "execution_count": null,
   "id": "98cb6561",
   "metadata": {},
   "outputs": [],
   "source": [
    "def read_the_data(fname):\n",
    "    with open(fname) as f:\n",
    "        raw = f.read().strip()\n",
    "        \n",
    "    batches = raw.split('\\n\\n')\n",
    "\n",
    "    tags = []\n",
    "    cc = 0\n",
    "    for batch in batches:\n",
    "        t_line = []\n",
    "        lines = batch.split('\\n')\n",
    "        for line in lines:\n",
    "            tag = line.strip().split('\\t')[3]\n",
    "            t_line.append(tag)\n",
    "        tags.append(t_line)\n",
    "\n",
    "    return tags\n",
    "\n",
    "def dissimilarity_matrix(data):\n",
    "    print('!!!!')\n",
    "    #подсчет матрицы\n",
    "    matrix = []\n",
    "    for i in range(len(data)):\n",
    "        sim_row = []\n",
    "        for j in range(len(data)):\n",
    "            sim_loc = 0\n",
    "            for k in range(len(data[i])):\n",
    "\n",
    "                if data[i][k] == data[j][k]:\n",
    "                    sim_loc += 1\n",
    "            sim_row.append(1 - sim_loc/7) \n",
    "        matrix.append(sim_row)\n",
    "    return matrix\n",
    "\n",
    "def mds_stuff(matrix, ndim):\n",
    "    matrix = np.array(matrix)\n",
    "    mds = MDS(n_components=ndim, random_state=42, dissimilarity='precomputed')\n",
    "    \n",
    "    pos = mds.fit_transform(matrix)\n",
    "\n",
    "    print(mds.stress_)\n",
    "    DE = euclidean_distances(pos)\n",
    "    stress = 0.5 * np.sum((DE - matrix)**2)\n",
    "\n",
    "    ## Kruskal's stress (or stress formula 1)\n",
    "    stress1 = np.sqrt(stress / (0.5 * np.sum(matrix**2)))\n",
    "    print(\"Kruskal's Stress :\")\n",
    "    print(\"[Poor > 0.2 > Fair > 0.1 > Good > 0.05 > Excellent > 0.025 > Perfect > 0.0]\")\n",
    "    print(stress1)\n",
    "    return pos    \n",
    "\n",
    "def make_plot(lang_ind, langs, dim_x, dim_y):\n",
    "    fig = plt.subplots(dpi=700, figsize=(9,8))\n",
    "    \n",
    "    for i in range(len(tags)-1):\n",
    "#         print(lang_ind, i)\n",
    "#         print(pos[i])\n",
    "        plt.scatter(pos[i, dim_x], pos[i, dim_y], c='magenta')\n",
    "        plt.text(pos[i, dim_x], pos[i, dim_y], tags[i][lang_ind], fontsize=6)\n",
    "\n",
    "\n",
    "    plt.xlabel ('DIMENSION '+str(dim_x))\n",
    "    plt.ylabel ('DIMENSION '+str(dim_y))\n",
    "    plt.savefig('pictures/' + ' ' + langs[lang_ind] + '.png')"
   ]
  },
  {
   "cell_type": "code",
   "execution_count": 12,
   "id": "059d4c3f",
   "metadata": {},
   "outputs": [
    {
     "name": "stdout",
     "output_type": "stream",
     "text": [
      "!!!!\n",
      "245.90528554129938\n",
      "Kruskal's Stress :\n",
      "[Poor > 0.2 > Fair > 0.1 > Good > 0.05 > Excellent > 0.025 > Perfect > 0.0]\n",
      "0.0675469494172739\n"
     ]
    }
   ],
   "source": [
    "tags = read_the_data('dataset_LN_everyone_no_doubles_units.tsv')\n",
    "\n",
    "matrix = dissimilarity_matrix(tags[1:])\n",
    "pos = mds_stuff(matrix, 15)\n",
    "\n",
    "langs = ['ru', 'en', 'de', 'it', 'es', 'fr', 'uk']\n",
    "dim_x = 0\n",
    "dim_y = 1\n",
    "\n",
    "for i in range(len(langs)):\n",
    "    make_plot(i, langs, dim_x, dim_y)"
   ]
  },
  {
   "cell_type": "code",
   "execution_count": null,
   "id": "7f323068",
   "metadata": {},
   "outputs": [],
   "source": []
  }
 ],
 "metadata": {
  "kernelspec": {
   "display_name": "Python 3 (ipykernel)",
   "language": "python",
   "name": "python3"
  },
  "language_info": {
   "codemirror_mode": {
    "name": "ipython",
    "version": 3
   },
   "file_extension": ".py",
   "mimetype": "text/x-python",
   "name": "python",
   "nbconvert_exporter": "python",
   "pygments_lexer": "ipython3",
   "version": "3.9.7"
  }
 },
 "nbformat": 4,
 "nbformat_minor": 5
}
